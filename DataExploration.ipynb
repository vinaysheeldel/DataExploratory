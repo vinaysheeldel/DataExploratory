{
 "cells": [
  {
   "cell_type": "code",
   "execution_count": 23,
   "metadata": {},
   "outputs": [],
   "source": [
    "import warnings                                  # `do not disturbe` mode\n",
    "warnings.filterwarnings('ignore')\n",
    "\n",
    "import numpy as np                               # vectors and matrices\n",
    "import pandas as pd                              # tables and data manipulations\n",
    "import matplotlib.pyplot as plt                  # plots\n",
    "import seaborn as sns                            # more plots\n",
    "\n",
    "from dateutil.relativedelta import relativedelta # working with dates with style\n",
    "from scipy.optimize import minimize              # for function minimization\n",
    "\n",
    "import statsmodels.formula.api as smf            # statistics and econometrics\n",
    "import statsmodels.tsa.api as smt\n",
    "import statsmodels.api as sm\n",
    "import scipy.stats as scs\n",
    "\n",
    "# metrics algebra\n",
    "# Importing everything from above\n",
    "import sklearn\n",
    "\n",
    "from sklearn.metrics import r2_score, median_absolute_error, mean_absolute_error\n",
    "#from sklearn.metrics import median_absolute_error, mean_squared_error, mean_squared_log_error\n",
    "from sklearn.model_selection import train_test_split\n",
    "\n",
    "\n",
    "# The sklearn library contains a lot of efficient tools for machine learning and statistical modeling\n",
    "# including classification, regression, clustering and dimensionality reduction\n",
    "# Split arrays or matrices into random train and test subsets\n",
    "from sklearn.linear_model import LinearRegression\n",
    "\n",
    "# metrics algebra\n",
    "from sklearn import metrics\n",
    "\n",
    "def mean_absolute_percentage_error(y_true, y_pred): \n",
    "    return np.mean(np.abs((y_true - y_pred) / y_true)) * 100\n",
    "\n",
    "from itertools import product                    # some useful functions\n",
    "#from tqdm import tqdm_notebook\n",
    "\n",
    "\n",
    "\n",
    "%matplotlib inline"
   ]
  },
  {
   "cell_type": "code",
   "execution_count": 24,
   "metadata": {},
   "outputs": [
    {
     "data": {
      "text/html": [
       "<div>\n",
       "<style scoped>\n",
       "    .dataframe tbody tr th:only-of-type {\n",
       "        vertical-align: middle;\n",
       "    }\n",
       "\n",
       "    .dataframe tbody tr th {\n",
       "        vertical-align: top;\n",
       "    }\n",
       "\n",
       "    .dataframe thead th {\n",
       "        text-align: right;\n",
       "    }\n",
       "</style>\n",
       "<table border=\"1\" class=\"dataframe\">\n",
       "  <thead>\n",
       "    <tr style=\"text-align: right;\">\n",
       "      <th></th>\n",
       "      <th>GiftCardId</th>\n",
       "      <th>MerchantId</th>\n",
       "      <th>CardCategory</th>\n",
       "      <th>CardType</th>\n",
       "      <th>CardValue</th>\n",
       "      <th>CardCurrentStatus</th>\n",
       "      <th>CardExpiryDate</th>\n",
       "      <th>CustomerId</th>\n",
       "      <th>Breakage</th>\n",
       "      <th>CardStatusDate</th>\n",
       "      <th>CardPurchaseDate</th>\n",
       "      <th>TransactionId</th>\n",
       "      <th>Redeemed</th>\n",
       "      <th>RedemptionDate</th>\n",
       "    </tr>\n",
       "    <tr>\n",
       "      <th>index</th>\n",
       "      <th></th>\n",
       "      <th></th>\n",
       "      <th></th>\n",
       "      <th></th>\n",
       "      <th></th>\n",
       "      <th></th>\n",
       "      <th></th>\n",
       "      <th></th>\n",
       "      <th></th>\n",
       "      <th></th>\n",
       "      <th></th>\n",
       "      <th></th>\n",
       "      <th></th>\n",
       "      <th></th>\n",
       "    </tr>\n",
       "  </thead>\n",
       "  <tbody>\n",
       "    <tr>\n",
       "      <th>1</th>\n",
       "      <td>GC1</td>\n",
       "      <td>M1</td>\n",
       "      <td>1</td>\n",
       "      <td>1</td>\n",
       "      <td>5000</td>\n",
       "      <td>500</td>\n",
       "      <td>28082019</td>\n",
       "      <td>C1</td>\n",
       "      <td>500</td>\n",
       "      <td>27082020</td>\n",
       "      <td>10122017</td>\n",
       "      <td>T1</td>\n",
       "      <td>4500</td>\n",
       "      <td>12052020</td>\n",
       "    </tr>\n",
       "    <tr>\n",
       "      <th>2</th>\n",
       "      <td>GC2</td>\n",
       "      <td>M1</td>\n",
       "      <td>2</td>\n",
       "      <td>2</td>\n",
       "      <td>10000</td>\n",
       "      <td>850</td>\n",
       "      <td>28042020</td>\n",
       "      <td>C2</td>\n",
       "      <td>850</td>\n",
       "      <td>27082020</td>\n",
       "      <td>10122018</td>\n",
       "      <td>T2</td>\n",
       "      <td>9150</td>\n",
       "      <td>12032020</td>\n",
       "    </tr>\n",
       "    <tr>\n",
       "      <th>3</th>\n",
       "      <td>GC3</td>\n",
       "      <td>M1</td>\n",
       "      <td>3</td>\n",
       "      <td>3</td>\n",
       "      <td>8000</td>\n",
       "      <td>1100</td>\n",
       "      <td>28082021</td>\n",
       "      <td>C1</td>\n",
       "      <td>0</td>\n",
       "      <td>27082020</td>\n",
       "      <td>10122018</td>\n",
       "      <td>T3</td>\n",
       "      <td>6900</td>\n",
       "      <td>10052020</td>\n",
       "    </tr>\n",
       "    <tr>\n",
       "      <th>4</th>\n",
       "      <td>GC4</td>\n",
       "      <td>M2</td>\n",
       "      <td>1</td>\n",
       "      <td>2</td>\n",
       "      <td>9000</td>\n",
       "      <td>1200</td>\n",
       "      <td>28052020</td>\n",
       "      <td>C4</td>\n",
       "      <td>1200</td>\n",
       "      <td>27082020</td>\n",
       "      <td>21042018</td>\n",
       "      <td>T4</td>\n",
       "      <td>7800</td>\n",
       "      <td>12052020</td>\n",
       "    </tr>\n",
       "    <tr>\n",
       "      <th>5</th>\n",
       "      <td>GC5</td>\n",
       "      <td>M2</td>\n",
       "      <td>2</td>\n",
       "      <td>3</td>\n",
       "      <td>2000</td>\n",
       "      <td>100</td>\n",
       "      <td>18082021</td>\n",
       "      <td>C4</td>\n",
       "      <td>0</td>\n",
       "      <td>27082020</td>\n",
       "      <td>10122018</td>\n",
       "      <td>T5</td>\n",
       "      <td>1900</td>\n",
       "      <td>11112020</td>\n",
       "    </tr>\n",
       "  </tbody>\n",
       "</table>\n",
       "</div>"
      ],
      "text/plain": [
       "      GiftCardId MerchantId  CardCategory  CardType  CardValue  \\\n",
       "index                                                            \n",
       "1            GC1         M1             1         1       5000   \n",
       "2            GC2         M1             2         2      10000   \n",
       "3            GC3         M1             3         3       8000   \n",
       "4            GC4         M2             1         2       9000   \n",
       "5            GC5         M2             2         3       2000   \n",
       "\n",
       "       CardCurrentStatus  CardExpiryDate CustomerId  Breakage  CardStatusDate  \\\n",
       "index                                                                           \n",
       "1                    500        28082019         C1       500        27082020   \n",
       "2                    850        28042020         C2       850        27082020   \n",
       "3                   1100        28082021         C1         0        27082020   \n",
       "4                   1200        28052020         C4      1200        27082020   \n",
       "5                    100        18082021         C4         0        27082020   \n",
       "\n",
       "       CardPurchaseDate TransactionId  Redeemed  RedemptionDate  \n",
       "index                                                            \n",
       "1              10122017            T1      4500        12052020  \n",
       "2              10122018            T2      9150        12032020  \n",
       "3              10122018            T3      6900        10052020  \n",
       "4              21042018            T4      7800        12052020  \n",
       "5              10122018            T5      1900        11112020  "
      ]
     },
     "execution_count": 24,
     "metadata": {},
     "output_type": "execute_result"
    }
   ],
   "source": [
    "data = pd.read_csv('ExploratoryData.csv', index_col=0,error_bad_lines=False)\n",
    "data.head()"
   ]
  },
  {
   "cell_type": "code",
   "execution_count": 25,
   "metadata": {},
   "outputs": [
    {
     "data": {
      "text/plain": [
       "<seaborn.axisgrid.PairGrid at 0x1ca4ac10>"
      ]
     },
     "execution_count": 25,
     "metadata": {},
     "output_type": "execute_result"
    },
    {
     "data": {
      "image/png": "[encoded data removed]",
      "text/plain": [
       "<Figure size 806.4x576 with 2 Axes>"
      ]
     },
     "metadata": {
      "needs_background": "light"
     },
     "output_type": "display_data"
    }
   ],
   "source": [
    "sns.pairplot(data, x_vars=['CardCategory','CardType'], y_vars='Breakage', height=8, aspect=0.7, kind='reg')\n",
    "# Here adding kind = 'reg' input param in abobe API is drawing Linear Regression line also.\n",
    "# More distance of a point from line means more error against the point"
   ]
  },
  {
   "cell_type": "code",
   "execution_count": 26,
   "metadata": {},
   "outputs": [
    {
     "data": {
      "text/plain": [
       "<seaborn.axisgrid.PairGrid at 0x1f6613d0>"
      ]
     },
     "execution_count": 26,
     "metadata": {},
     "output_type": "execute_result"
    },
    {
     "data": {
      "image/png": "[encoded data removed]",
      "text/plain": [
       "<Figure size 352.8x504 with 1 Axes>"
      ]
     },
     "metadata": {
      "needs_background": "light"
     },
     "output_type": "display_data"
    }
   ],
   "source": [
    "sns.pairplot(data, x_vars=['CardCategory'], y_vars='Breakage', height=7, aspect=0.7, kind='reg')\n",
    "# Here adding kind = 'reg' input param in abobe API is drawing Linear Regression line also.\n",
    "# More distance of a point from line means more error against the point"
   ]
  },
  {
   "cell_type": "code",
   "execution_count": 27,
   "metadata": {},
   "outputs": [
    {
     "data": {
      "text/plain": [
       "<seaborn.axisgrid.PairGrid at 0x1f290ad8>"
      ]
     },
     "execution_count": 27,
     "metadata": {},
     "output_type": "execute_result"
    },
    {
     "data": {
      "image/png": "[encoded data removed]",
      "text/plain": [
       "<Figure size 352.8x504 with 1 Axes>"
      ]
     },
     "metadata": {
      "needs_background": "light"
     },
     "output_type": "display_data"
    }
   ],
   "source": [
    "sns.pairplot(data, x_vars=['CardValue'], y_vars='Breakage', height=7, aspect=0.7, kind='reg')\n",
    "# Here adding kind = 'reg' input param in abobe API is drawing Linear Regression line also.\n",
    "# More distance of a point from line means more error against the point"
   ]
  },
  {
   "cell_type": "code",
   "execution_count": 28,
   "metadata": {},
   "outputs": [
    {
     "name": "stdout",
     "output_type": "stream",
     "text": [
      "202.36436363637984\n",
      "[-1.86417212e+02 -5.39410909e+01  1.38089212e-01]\n"
     ]
    },
    {
     "data": {
      "text/plain": [
       "0.8559422296744638"
      ]
     },
     "execution_count": 28,
     "metadata": {},
     "output_type": "execute_result"
    }
   ],
   "source": [
    "### SCIKIT-LEARN ###\n",
    "\n",
    "# Simple linear regression can easily be extended to include multiple features. This is called multiple linear regression:\n",
    "# y=β0+β1x1+...+βnxn \n",
    "# Each  x  represents a different feature, and each feature has its own coefficient. In this case:\n",
    "# y=β0+β1×TV+β2×Radio+β3×Newspaper\n",
    "\n",
    "# create X and y , include all three that is TV , Radio and Newspaper on X axis and Sales on Y axis\n",
    "#feature_cols = ['TV', 'Radio', 'Newspaper'] #0.8972106381789522\n",
    "#feature_cols = ['TV', 'Radio'] #0.8971942610828957\n",
    "#feature_cols = ['TV', 'Newspaper'] #0.6458354938293271\n",
    "#feature_cols = ['Radio', 'Newspaper'] #0.33270518395032256\n",
    "feature_cols = ['CardType','CardCategory','CardValue'] #0.33270518395032256\n",
    "                \n",
    "X = data[feature_cols]\n",
    "y = data.Breakage\n",
    "\n",
    "# instantiate and fit\n",
    "lm2 = LinearRegression()\n",
    "# Linear Regression with all three features\n",
    "lm2.fit(X, y)\n",
    "\n",
    "# print the coefficients\n",
    "print(lm2.intercept_)\n",
    "print(lm2.coef_)\n",
    "\n",
    "#lm2.score\n",
    "# print the R-squared value for the model\n",
    "# X is all data of TV , Y is corresponding sells\n",
    "lm2.score(X,y)\n",
    "\n",
    "# Response is providing coefficient of each param. For a given amount of Radio and Newspaper ad spending, \n",
    "# an increase of $1000 in TV ad spending is associated with an increase in Sales of 45.765 widgets."
   ]
  },
  {
   "cell_type": "code",
   "execution_count": 29,
   "metadata": {},
   "outputs": [
    {
     "data": {
      "text/plain": [
       "[('CardType', -186.4172121212036),\n",
       " ('CardCategory', -53.94109090909233),\n",
       " ('CardValue', 0.1380892121212085)]"
      ]
     },
     "execution_count": 29,
     "metadata": {},
     "output_type": "execute_result"
    }
   ],
   "source": [
    "# pair the feature names with the coefficients\n",
    "list(zip(feature_cols, lm2.coef_))"
   ]
  },
  {
   "cell_type": "code",
   "execution_count": 30,
   "metadata": {},
   "outputs": [
    {
     "name": "stdout",
     "output_type": "stream",
     "text": [
      "469.1720353949573\n"
     ]
    },
    {
     "data": {
      "text/plain": [
       "[('CardType', -48.95234493192137),\n",
       " ('CardCategory', -37.92990418557742),\n",
       " ('CardValue', 0.12828038325768887)]"
      ]
     },
     "execution_count": 30,
     "metadata": {},
     "output_type": "execute_result"
    }
   ],
   "source": [
    "# exclude Newspaper\n",
    "# Now exclude one feature that is Newspaper and just keep and repeat the rest of the precess as in above \n",
    "X = data[['CardType','CardCategory','CardValue']]\n",
    "y = data.Breakage\n",
    "\n",
    "# Split data\n",
    "X_train, X_test, y_train, y_test = train_test_split(X, y, random_state=1)\n",
    "\n",
    "# Instantiate model\n",
    "lm2 = LinearRegression()\n",
    "\n",
    "# Fit model\n",
    "lm2.fit(X_train, y_train)\n",
    "\n",
    "# Predict\n",
    "y_pred = lm2.predict(X_test)\n",
    "\n",
    "# RMSE\n",
    "print(np.sqrt(metrics.mean_squared_error(y_test, y_pred)))\n",
    "\n",
    "# print the coefficients\n",
    "list(zip(feature_cols, lm2.coef_))"
   ]
  },
  {
   "cell_type": "code",
   "execution_count": null,
   "metadata": {},
   "outputs": [],
   "source": []
  }
 ],
 "metadata": {
  "kernelspec": {
   "display_name": "Python 3",
   "language": "python",
   "name": "python3"
  },
  "language_info": {
   "codemirror_mode": {
    "name": "ipython",
    "version": 3
   },
   "file_extension": ".py",
   "mimetype": "text/x-python",
   "name": "python",
   "nbconvert_exporter": "python",
   "pygments_lexer": "ipython3",
   "version": "3.8.5"
  }
 },
 "nbformat": 4,
 "nbformat_minor": 4
}
